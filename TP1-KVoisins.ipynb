{
 "cells": [
  {
   "cell_type": "markdown",
   "metadata": {},
   "source": [
    "<h1 style = \"text-align : center ; color : black ; border-style : solid none ; padding : 15px ; margin-right : 5px\">      \n",
    "    TP1: ALGOS DES K-PLUS-PROCHES-VOISINS\n",
    "</h1>"
   ]
  },
  {
   "cell_type": "markdown",
   "metadata": {},
   "source": [
    "<h3 style = border : solid ; padding : 5px   margin-right : 5px>      \n",
    "   1-PRESENTATION\n",
    "</h3>"
   ]
  },
  {
   "cell_type": "markdown",
   "metadata": {},
   "source": [
    "Nous reprenons dans ce TP l'exemple de la fin du cours afin d'en trouver le code Python.\n",
    "On rappelle qu'on a à notre disposition un jeu de données d’apprentissage entré dans Python, il est constitué de 18 points du plan chacun associés à un type. Un 19e point va être ajouté, et nous souhaitons connaître son type en utilisant l’algorithme des k-plus-proches-voisins.\n",
    "Une donnée est constituée de ses deux coordonnées du plan X et Y ainsi que de son type.\n",
    "On peut imaginer que:\n",
    "- les coordonnées sont par exemples des latitudes et longitudes,\n",
    "- le type peut être une région...\n",
    "\n",
    "`donnee = ['x','y','type']` <br>\n",
    "Voici la liste contenant les données d’apprentissage:\n"
   ]
  },
  {
   "cell_type": "code",
   "execution_count": null,
   "metadata": {},
   "outputs": [],
   "source": [
    "donnees =[[2, 7, 'type 1'],[3, 2, 'type 1'],\n",
    "          [5, 5, 'type 1'],[7, 4, 'type 1'],\n",
    "          [2, 20, 'type 2'],[3, 15, 'type 2'],\n",
    "          [5, 17, 'type 2'],[7, 19, 'type 2'],\n",
    "          [5, 10, 'type 3'],[10, 10, 'type 3'],\n",
    "          [7, 12, 'type 3'],[12, 20, 'type 4'],\n",
    "          [13, 15, 'type 4'],[15, 17, 'type 4'],\n",
    "          [20, 18, 'type 4'],[15, 5, 'type 5'],\n",
    "          [17, 7, 'type 5'],[20, 5, 'type 5']]\n"
   ]
  },
  {
   "cell_type": "markdown",
   "metadata": {},
   "source": [
    "**Répondre aux questions suivantes:**\n",
    "1. Combien de descripteurs sont définis pour chaque données?\n",
    "**votre réponse**\n",
    "2. Combien y-a-t-il d'étiquettes différentes? en donner la liste.\n",
    "**votre réponse**\n",
    "3. Quel est le type de la variable `donnees`?\n",
    "**votre réponse**"
   ]
  },
  {
   "cell_type": "markdown",
   "metadata": {},
   "source": [
    "<h3 style = border : solid ; padding : 5px   margin-right : 5px>      \n",
    "   2-CALCULER LA DISTANCE D'UN POINT AUX DONNEES D'APPRENTISSAGE\n",
    "</h3>"
   ]
  },
  {
   "cell_type": "markdown",
   "metadata": {},
   "source": [
    "On souhaite à connaître la distance d'un point M, de coordonnées X et Y à chaque données d'apprentissage de la liste ci-dessus.<br>\n",
    "#### Rappel avant de continuer :\n",
    "* La distance dont il s'agit ici est la distance euclidienne dans un repère orthonormé entre deux points $A(x_{A};y_{A})$ et $B(x_{B};y_{B})$ :\n",
    "\n",
    "\n",
    "\n",
    "<center> $AB=\\sqrt{(x_{B}-x_{A})²+(y_{B}-y_{A})²}$ </center>\n",
    "\n"
   ]
  },
  {
   "cell_type": "markdown",
   "metadata": {},
   "source": [
    "#### EXERCICE 1\n",
    "Compléter la fonction ci-dessous. Elle doit vérifier les containtes suivantes :\n",
    "\n",
    "- deux paramètres en entrée : `liste1` et `liste2` <br>\n",
    "    - `liste1` est de la forme `[X1,Y1]` et représente les coordonnées de M\n",
    "    - `liste2` est de la forme `[X2,Y2,\"type\"]` et représente les données d'apprentissage\n",
    "\n",
    "- renvoie une nouvelle liste de la forme `[X2,Y2,\"type\",distance à M]`. La distance est **arrondie à deux décimales** .\n",
    " \n",
    "Deux assertions qui doivent être vérifiées par votre fonction sont données ensuite.\n",
    " \n",
    "**Rappels :**     \n",
    "      \n",
    "- On utilisera `sqrt` du module `math` pour calculer la racine carrée et `**` pour mettre au carré.\n",
    "\n",
    "- On utilisera `round(x, 2)` pour arrondir un nombre `x` en ne gardant que deux décimales."
   ]
  },
  {
   "cell_type": "code",
   "execution_count": null,
   "metadata": {},
   "outputs": [],
   "source": [
    "from math import sqrt\n",
    "\n",
    "def distance(liste1,liste2):\n",
    "    #Votre code"
   ]
  },
  {
   "cell_type": "code",
   "execution_count": null,
   "metadata": {},
   "outputs": [],
   "source": [
    "M=[7,14]\n",
    "assert distance(donnees[0],M) == [2,7,'type 1',8.60]\n",
    "assert distance(donnees[2],M) == [5, 5, 'type 1',9.21]\n",
    "assert distance(donnees[17],M) == [20, 5, 'type 5',15.81]\n"
   ]
  },
  {
   "cell_type": "markdown",
   "metadata": {},
   "source": [
    "#### EXERCICE 2\n",
    "Compléter la fonction `calcul_distance` ci-dessous qui permet de créer la liste complétant toutes les données d'apprentissage en calculant toutes les distances de ces données à un point M(X,Y).\n",
    "- paramètres: \n",
    "    - liste1 de type `[X1,Y1]`\n",
    "    - liste2 de listes de type `[[X2,Y2,\"type\"],[X3,Y3,\"type\"],....]`\n",
    "- sortie:\n",
    "    une liste de listes de type `[[X2,Y2,\"type\",distance],[X3,Y3,\"type\",distance],....]`\n",
    "    \n",
    "`calcul_distance(M,donnee)` doit donc renvoyer:<br> \n",
    "`[[2, 7, 'type 1', 8.6],\n",
    " [3, 2, 'type 1', 12.65],\n",
    " [5, 5, 'type 1', 9.22],\n",
    " [7, 4, 'type 1', 10.0],\n",
    " [2, 20, 'type 2', 7.81],\n",
    " [3, 15, 'type 2', 4.12],\n",
    " [5, 17, 'type 2', 3.61],\n",
    " [7, 19, 'type 2', 5.0],\n",
    " [5, 10, 'type 3', 4.47],\n",
    " [10, 10, 'type 3', 5.0],\n",
    " [7, 12, 'type 3', 2.0],\n",
    " [12, 20, 'type 4', 7.81],\n",
    " [13, 15, 'type 4', 6.08],\n",
    " [15, 17, 'type 4', 8.54],\n",
    " [20, 18, 'type 4', 13.6],\n",
    " [15, 5, 'type 5', 12.04],\n",
    " [17, 7, 'type 5', 12.21],\n",
    " [20, 5, 'type 5', 15.81]]`"
   ]
  },
  {
   "cell_type": "code",
   "execution_count": null,
   "metadata": {},
   "outputs": [],
   "source": [
    "def calcul_distances(liste1,liste2):\n",
    "    #votre code ici"
   ]
  },
  {
   "cell_type": "code",
   "execution_count": null,
   "metadata": {},
   "outputs": [],
   "source": [
    "donnees=calcul_distances(M,donnees)\n",
    "print(donnees)"
   ]
  },
  {
   "cell_type": "markdown",
   "metadata": {},
   "source": [
    "<h3 style = border : solid ; padding : 5px   margin-right : 5px>      \n",
    "   2-TRIE DE LA LISTE SUIVANT LES DISTANCES CROISSANTES\n",
    "</h3>"
   ]
  },
  {
   "cell_type": "markdown",
   "metadata": {},
   "source": [
    "La fonction sorted permet de faire un tri 'en place' (la liste initiale est remplacée par la liste triée) en fonction d'un des champs d'une liste.<br>\n",
    "`sorted(liste, key=lambda liste: liste[2])` permet de trier la liste en fonction du champs d'indice 2."
   ]
  },
  {
   "cell_type": "markdown",
   "metadata": {},
   "source": [
    "#### EXERCICE 3\n",
    "Trier la liste `donnees` par ordre croissant des distances au point M."
   ]
  },
  {
   "cell_type": "code",
   "execution_count": null,
   "metadata": {},
   "outputs": [],
   "source": [
    "#Votre code ici"
   ]
  },
  {
   "cell_type": "markdown",
   "metadata": {},
   "source": [
    "<h3 style = border : solid ; padding : 5px   margin-right : 5px>      \n",
    "   3-ALGORITHME DES K-PLUS-PROCHE-VOISINS\n",
    "</h3>"
   ]
  },
  {
   "cell_type": "markdown",
   "metadata": {},
   "source": [
    "#### EXERCICE 4\n",
    "Ecrire ci-dessous une fonction `k_premiers(k,liste)` qui permet de récupérer les k premières valeurs de la liste `liste`"
   ]
  },
  {
   "cell_type": "code",
   "execution_count": null,
   "metadata": {},
   "outputs": [],
   "source": [
    "def k_premiers(k,liste):\n",
    "    #votre code ici"
   ]
  },
  {
   "cell_type": "markdown",
   "metadata": {},
   "source": [
    "Tester votre fonction dans la cellule ci-dessous avec la liste `donnees` afin d'en ressortir ses 4 premières valeurs."
   ]
  },
  {
   "cell_type": "code",
   "execution_count": null,
   "metadata": {},
   "outputs": [],
   "source": []
  },
  {
   "cell_type": "markdown",
   "metadata": {},
   "source": [
    "#### EXERCICE 5\n",
    "Compléter ci-dessous la fonction `majoritaire(liste)` qui permet de récupérer le type majoritaire de la liste `liste`.<br>\n",
    "Rappel: il y a 5 types différents: \"type 1\", \"type 2\",..., \"type 5\" <br>\n",
    "(Si il y a une indétermination, c'est à dire deux types qui arrivent avec la même fréquence, la fonction renverra le plus petit type des deux)."
   ]
  },
  {
   "cell_type": "code",
   "execution_count": null,
   "metadata": {},
   "outputs": [],
   "source": [
    "def majoritaire(liste):\n",
    "    type1=0\n",
    "    type2=0\n",
    "    type3=0\n",
    "    type4=0\n",
    "    type5=0\n",
    "    for element in liste:\n",
    "        if element[2]== 'type 1':\n",
    "            type1=type1+1\n",
    "        #A COMPLETER ICI\n",
    "    maxi=max(type1,type2,type3,type4,type5)\n",
    "    if maxi==type1:\n",
    "        return 'type 1'\n",
    "    #A COMPLETER ICI\n",
    "    "
   ]
  },
  {
   "cell_type": "code",
   "execution_count": null,
   "metadata": {},
   "outputs": [],
   "source": [
    "print(k_premiers(4,donnees))\n",
    "print(majoritaire(k_premiers(4,donnees)))"
   ]
  },
  {
   "cell_type": "markdown",
   "metadata": {},
   "source": [
    "#### EXERCICE 6: BILAN\n",
    "La fonction ci-dessous regroupe les résultats des différents exercices.<br>\n",
    "Utiliser cette fonction pour prédire le type de M (7,14) si:\n",
    "- k=1  **Votre réponse ici**\n",
    "- k=3  **Votre réponse ici** \n",
    "- k=5  **Votre réponse ici**"
   ]
  },
  {
   "cell_type": "code",
   "execution_count": null,
   "metadata": {},
   "outputs": [],
   "source": [
    "donnees =[[2, 7, 'type 1'],[3, 2, 'type 1'],\n",
    "          [5, 5, 'type 1'],[7, 4, 'type 1'],\n",
    "          [2, 20, 'type 2'],[3, 15, 'type 2'],\n",
    "          [5, 17, 'type 2'],[7, 19, 'type 2'],\n",
    "          [5, 10, 'type 3'],[10, 10, 'type 3'],\n",
    "          [7, 12, 'type 3'],[12, 20, 'type 4'],\n",
    "          [13, 15, 'type 4'],[15, 17, 'type 4'],\n",
    "          [20, 18, 'type 4'],[15, 5, 'type 5'],\n",
    "          [17, 7, 'type 5'],[20, 5, 'type 5']]\n",
    "\n",
    "M=[7,14]\n",
    "\n",
    "def k_plus_proches_voisins(k,M,donnees):\n",
    "    liste1=calcul_distances(M,donnees)\n",
    "    liste2=sorted(liste1,key=lambda liste:liste[3])\n",
    "    liste3=k_premiers(k,liste2)\n",
    "    return majoritaire(liste3)    \n"
   ]
  },
  {
   "cell_type": "code",
   "execution_count": null,
   "metadata": {},
   "outputs": [],
   "source": [
    "k_plus_proches_voisins(1,M,donnees)"
   ]
  },
  {
   "cell_type": "markdown",
   "metadata": {},
   "source": [
    "Quel est le type du point N de coordonnées (12,9). On utilisera pour répondre l'algorithme des 5_plus_proches_voisins?"
   ]
  },
  {
   "cell_type": "code",
   "execution_count": null,
   "metadata": {},
   "outputs": [],
   "source": [
    "#Votre code ici pour trouver la réponse"
   ]
  }
 ],
 "metadata": {
  "kernelspec": {
   "display_name": "Python 3",
   "language": "python",
   "name": "python3"
  },
  "language_info": {
   "codemirror_mode": {
    "name": "ipython",
    "version": 3
   },
   "file_extension": ".py",
   "mimetype": "text/x-python",
   "name": "python",
   "nbconvert_exporter": "python",
   "pygments_lexer": "ipython3",
   "version": "3.6.3"
  }
 },
 "nbformat": 4,
 "nbformat_minor": 2
}
